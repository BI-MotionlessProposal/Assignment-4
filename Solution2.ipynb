{
 "cells": [
  {
   "cell_type": "code",
   "execution_count": null,
   "metadata": {},
   "outputs": [],
   "source": [
    "\n",
    "\n",
    "import pandas as pd\n",
    "import math\n",
    "import os\n",
    "from datetime import date\n",
    "from datetime import datetime\n",
    "\n",
    "import warnings\n",
    "warnings.filterwarnings('ignore')\n",
    "\n",
    "\n",
    "\n",
    "dateparse = lambda x: pd.datetime.strptime(x, '%d-%m-%Y')\n",
    "# A CSV file containing all scraped data, the result of assignment number two\n",
    "complete_data = './boliga_all_loc.csv'\n",
    "df = pd.read_csv(complete_data, parse_dates=['sell_date'], date_parser=dateparse)\n",
    "\n",
    "df['zip_nr'] = [int(el.split(' ')[0]) for el in df['zip_code'].values]\n",
    "df['sell_year'] = df['sell_date'].dt.year\n",
    "\n",
    "mask = ((df['sell_year'] == 1992) & \n",
    "        (~df.lat.isnull()) & \n",
    "        (~df.lon.isnull()) & \n",
    "        ( ( ( df['zip_nr'] >= 1000 ) & ( df['zip_nr'] <= 1499 ) ) |  \n",
    "         ( df['zip_nr'] == 5000 ) |  \n",
    "         ( df['zip_nr'] == 8000 ) | \n",
    "         ( df['zip_nr'] == 9000 ) ) \n",
    "       )\n",
    "\n",
    "#df.head()\n",
    "\n",
    "df_result = df[mask]\n",
    "\n",
    "\n",
    "\n",
    "import folium\n",
    "\n",
    "\n",
    "my_map = folium.Map(location=[55.88207495748612, 10.636574309440173], zoom_start=6)\n",
    "\n",
    "for coords in zip(df_result.lon.values, \n",
    "                  df_result.lat.values):\n",
    "    folium.CircleMarker(location=[coords[1], coords[0]], radius=2).add_to(my_map)\n",
    "directory = 'result'\n",
    "if not os.path.exists(directory):\n",
    "    os.makedirs(directory)    \n",
    "my_map.save(directory+'/1992_housing_sales_4_cities.html')\n",
    "my_map\n",
    "\n"
   ]
  }
 ],
 "metadata": {
  "kernelspec": {
   "display_name": "Python 3",
   "language": "python",
   "name": "python3"
  },
  "language_info": {
   "codemirror_mode": {
    "name": "ipython",
    "version": 3
   },
   "file_extension": ".py",
   "mimetype": "text/x-python",
   "name": "python",
   "nbconvert_exporter": "python",
   "pygments_lexer": "ipython3",
   "version": "3.6.1"
  }
 },
 "nbformat": 4,
 "nbformat_minor": 2
}
